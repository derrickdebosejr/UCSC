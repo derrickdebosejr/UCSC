{
 "cells": [
  {
   "cell_type": "markdown",
   "metadata": {
    "colab_type": "text",
    "id": "UjPG-q6eQrwY"
   },
   "source": [
    "# CMPS 140"
   ]
  },
  {
   "cell_type": "markdown",
   "metadata": {
    "colab_type": "text",
    "id": "7lJ6neghQrwZ"
   },
   "source": [
    "## Assignment 2\n",
    "\n",
    "**DUE: Sunday July 7, 2019 11:59pm**\n",
    "\n",
    "Turn in the assignment via Canvas.\n",
    "\n",
    "To write legible answers you will need to be familiar with both [Markdown](https://github.com/adam-p/markdown-here/wiki/Markdown-Cheatsheet) and [Latex](https://www.latex-tutorial.com/tutorials/amsmath/)\n",
    "\n",
    "Before you turn this problem in, make sure everything runs as expected. First, restart the kernel (in the menubar, select Kernel→→Restart) and then run all cells (in the menubar, select Cell→→Run All).\n",
    "#### Show your work!\n",
    "Whenever you are asked to find the solution to a problem, be sure to also show *how* you arrived at your answer.\n",
    "\n",
    "Make sure you fill in any place that says \"YOUR CODE HERE\" or \"YOUR ANSWER HERE\", as well as your name below:"
   ]
  },
  {
   "cell_type": "code",
   "execution_count": null,
   "metadata": {
    "colab": {},
    "colab_type": "code",
    "id": "gTwj8kgJQrwa"
   },
   "outputs": [],
   "source": [
    "NAME = \"\"\n",
    "STUDENT_ID = \"\""
   ]
  },
  {
   "cell_type": "markdown",
   "metadata": {
    "colab_type": "text",
    "id": "Op7E2wEEQrwd"
   },
   "source": [
    "## Adversarial Search\n",
    "\n",
    "Imagine a non-stochastic game like tictactoe, checkers, chess, or go, where players alternate moves and have opposing goals. Prior to deep learning, one of the best approaches to writing sofware to play such games involved variations of the famous minimax algorithm https://en.wikipedia.org/wiki/Minimax. \n",
    "\n",
    "In this assignment, you'll be implementing the depth limited minimax algorithm, as well as it's more sophisticated form involving alpha-beta pruning https://en.wikipedia.org/wiki/Alpha%E2%80%93beta_pruning, and comparing the run times of these two algorithms."
   ]
  },
  {
   "cell_type": "markdown",
   "metadata": {
    "colab_type": "text",
    "id": "7As7qpK-Qrwe"
   },
   "source": [
    "## Minimax\n",
    "\n",
    "A simple animation illustrating the process: https://www.youtube.com/watch?v=zDskcx8FStA \n",
    "In your implementation, you'll assume the nodes of the tree you're searching don't initially have values (they are all initialized to 0), except for the leaf nodes. Each layer of the tree represents the move options of one of two players, the Maximizer (assume this player is the first to play) who wishes to maximize her score, and the Minimizer, who hopes to minimize his score. In real-world applications one often has to create heuristics to approximate values for the leaf nodes, but in this assignmemt the values are already present in the leaf nodes. \n"
   ]
  },
  {
   "cell_type": "markdown",
   "metadata": {
    "colab_type": "text",
    "id": "DnyD30IUQrwe"
   },
   "source": [
    "## Minimax Pseudocode\n",
    "\n",
    "Below is pseudocode for the depth limited minimax algorithm. You'll need to code this up in Python."
   ]
  },
  {
   "cell_type": "code",
   "execution_count": null,
   "metadata": {
    "colab": {},
    "colab_type": "code",
    "id": "0RtNKZH-Qrwf"
   },
   "outputs": [],
   "source": [
    "*** Pseudocode for the depth limited minimax algorithm ***\n",
    "\n",
    "function minimax(node, depth, maximizingPlayer) is\n",
    "\n",
    "    if depth = 0 or node is a terminal node then\n",
    "        return the heuristic value of node\n",
    "    \n",
    "    if maximizingPlayer then\n",
    "        value := −∞\n",
    "        for each child of node do\n",
    "            value := max(value, minimax(child, depth − 1, FALSE))\n",
    "        return value\n",
    "    \n",
    "    else (* minimizing player *)\n",
    "        value := +∞\n",
    "        for each child of node do\n",
    "            value := min(value, minimax(child, depth − 1, TRUE))\n",
    "        return value\n",
    "\n",
    "    \n",
    "(* Initial call *)\n",
    "minimax(origin, depth, TRUE)"
   ]
  },
  {
   "cell_type": "markdown",
   "metadata": {
    "colab_type": "text",
    "id": "p-xW3VX0Qrwh"
   },
   "source": [
    "## The Input Tree\n",
    "\n",
    "As a simple example of an input tree, imagine the following figure without numbers except in the leaf nodes.\n",
    "\n",
    "![minimax](https://drive.google.com/uc?id=1klN5Jxli9S_cpfGsjTWumtNkt8A0nvd1)\n",
    "\n",
    "On the left is the input tree, with root node 1 and 6 other consecutively numbered nodes. The leaf nodes have the values in boxes at the bottom of the tree. Your minimax algorithm will fill in the values missing in the input tree. Notice the optimal path in red, which involves the nodes \n",
    "\n",
    "$$[ 1, 3, 6 ]$$  \n",
    "\n",
    "The above node list is the desired output from your minimax function for this input tree.\n",
    "\n",
    "The entire tree can be recovered from its root node.  Each node in the tree has the following fields:\n",
    "\n",
    "    ID = ID\n",
    "    value = 0\n",
    "    parent = parent_node \n",
    "    children = [None for _ in range(branching)]\n",
    "\n",
    "The IDs are the node numbers. All values are initially 0, except for the leaf nodes. All nodes have a field containing a list of its children; the leaf nodes \"children\" are all None."
   ]
  },
  {
   "cell_type": "code",
   "execution_count": 1,
   "metadata": {
    "colab": {},
    "colab_type": "code",
    "id": "Wfp2ySh_Qrwh"
   },
   "outputs": [],
   "source": [
    "# Useful library and functions\n",
    "\n",
    "import numpy as np\n",
    "from copy import deepcopy\n",
    "import pickle\n",
    "\n",
    "\n",
    "class node:\n",
    "    def __init__(self, ID, parent_node, branching = 2):\n",
    "        self.ID = ID\n",
    "        self.value = 0\n",
    "        self.parent = parent_node \n",
    "        self.children = [None for _ in range(branching)]\n",
    "\n",
    "        \n",
    "# Determine the depth of this tree.\n",
    "def depth_of_tree(root):\n",
    "    ''' This function assumes that all leaves are at the same depth '''\n",
    "    depth = 0\n",
    "    children = deepcopy(root.children)\n",
    "    while children[0] != None:\n",
    "        depth += 1\n",
    "        children = deepcopy(children[0].children)\n",
    "    return depth\n",
    "\n",
    "\n",
    "# This function is useful to print out your tree node IDs with their values, for each level of the tree.\n",
    "def print_tree(root):\n",
    "    ''' Prints successive levels of the tree '''\n",
    "    depth = depth_of_tree(root)\n",
    "    print((root.ID, root.value))\n",
    "    newchildren = deepcopy(root.children)\n",
    "    \n",
    "    for i in range(depth):\n",
    "        children = deepcopy(newchildren)\n",
    "        newchildren = []\n",
    "        \n",
    "        for c in children:\n",
    "            print((c.ID, c.value), end=' ')\n",
    "        print()\n",
    "        \n",
    "        for c in children:\n",
    "            newchildren += c.children\n",
    "            \n",
    "\n",
    "# With this function, you'll be able to extract the optimal minimax path through  \n",
    "# the tree from the root node to a leaf.\n",
    "def minimax_path(root):\n",
    "    ''' Assumes minimax has been run on the tree '''\n",
    "    node = deepcopy(root)\n",
    "    nodes = [node.ID]\n",
    "    l = True\n",
    "    \n",
    "    while node.children[0] != None:\n",
    "    \n",
    "        vals = [c.value for c in node.children]\n",
    "        if l:\n",
    "            v = max(vals)\n",
    "            i = np.argmax(vals)\n",
    "        else:\n",
    "            v = min(vals)\n",
    "            i = np.argmin(vals)\n",
    "            \n",
    "        nodes.append(node.children[i].ID)\n",
    "        node = node.children[i]\n",
    "        l = not l\n",
    "        \n",
    "    return nodes"
   ]
  },
  {
   "cell_type": "markdown",
   "metadata": {
    "colab_type": "text",
    "id": "TFJK9uDHQrwj"
   },
   "source": [
    "## Problem 1\n",
    "\n",
    "Implement the above minimax pseudocode in Python."
   ]
  },
  {
   "cell_type": "code",
   "execution_count": 2,
   "metadata": {
    "colab": {},
    "colab_type": "code",
    "id": "RyFFXVa-Qrwj"
   },
   "outputs": [],
   "source": [
    "# The maximizingPlayer is True at the root node.\n",
    "def minimax(node, depth, maximizingPlayer):\n",
    "    value = None\n",
    "    \n",
    "    ### YOUR CODE HERE ###\n",
    "    \n",
    "    return value"
   ]
  },
  {
   "cell_type": "markdown",
   "metadata": {
    "colab_type": "text",
    "id": "ySYR5MnJQrwl"
   },
   "source": [
    "### Test cases\n",
    "\n",
    "The code below takes as input the output from your minimax function, and it ouputs the optimal path according to your algorithm.\n",
    "\n",
    "Your submitted code will be run on somewhat larger input trees."
   ]
  },
  {
   "cell_type": "code",
   "execution_count": 3,
   "metadata": {},
   "outputs": [
    {
     "name": "stdout",
     "output_type": "stream",
     "text": [
      "(1, 0)\n",
      "(2, 0) (3, 0) \n",
      "(4, 0) (5, 0) (6, 0) (7, 0) \n",
      "(8, 2) (9, -5) (10, -1) (11, -3) (12, 1) (13, 4) (14, 3) (15, 4) \n",
      "\n",
      "Test 1 failed\n"
     ]
    }
   ],
   "source": [
    "#################\n",
    "## Test Case 1 ##\n",
    "#################\n",
    "\n",
    "# IMPORTANT #\n",
    "\n",
    "# If you need this, remember to first put the files you want to read in onto your Google Drive.\n",
    "# See Piazza for more details, @115.\n",
    "#\n",
    "#from google.colab import files\n",
    "#uploaded = files.upload()\n",
    "\n",
    "# Read in the tree.\n",
    "tree = pickle.load(open('tree_3_2.pkl', 'rb' ))\n",
    "\n",
    "# You can see what's in this tree:\n",
    "print_tree(tree);  print()\n",
    "\n",
    "# Call your minimax function, which returns the value of the game that still needs to be stored in the root node:\n",
    "depth = 3\n",
    "tree.value = minimax(tree, depth, True)\n",
    "\n",
    "if minimax_path(tree) == [1, 3, 6, 13]:\n",
    "    print('Test 1 passed')\n",
    "else:\n",
    "    print('Test 1 failed')\n",
    "\n",
    "    \n",
    "# If you print out the tree again (after implementing minimax) those 0s will be filled in \n",
    "# with the correct values for each node\n",
    "#print_tree(tree)"
   ]
  },
  {
   "cell_type": "code",
   "execution_count": 4,
   "metadata": {},
   "outputs": [
    {
     "name": "stdout",
     "output_type": "stream",
     "text": [
      "Test 2 failed\n",
      "Test 3 failed\n"
     ]
    }
   ],
   "source": [
    "#################\n",
    "## Test Case 2 ##\n",
    "#################\n",
    "\n",
    "# Read in the tree.\n",
    "tree = pickle.load(open('tree_3_3.pkl', 'rb' ))\n",
    "minimax_path(tree)\n",
    "\n",
    "# Call your minimax function, which returns the value of the game that still needs to be stored in the root node:\n",
    "depth = 3\n",
    "tree.value = minimax(tree, depth, True)\n",
    "\n",
    "if minimax_path(tree) == [1, 4, 13, 41]:\n",
    "    print('Test 2 passed')\n",
    "else:\n",
    "    print('Test 2 failed')\n",
    "    \n",
    "\n",
    "#################\n",
    "## Test Case 3 ##\n",
    "#################\n",
    "\n",
    "# Read in the tree.\n",
    "tree = pickle.load(open('tree_5_3.pkl', 'rb' ))\n",
    "\n",
    "# Call your minminimax_path(tree)imax function, which returns the value of the game that still needs to be stored in the root node:\n",
    "depth = 5\n",
    "tree.value = minimax(tree, depth, True)\n",
    "\n",
    "if minimax_path(tree) == [1, 4, 13, 39, 117, 352]:\n",
    "    print('Test 3 passed')\n",
    "else:\n",
    "    print('Test 3 failed')"
   ]
  },
  {
   "cell_type": "markdown",
   "metadata": {
    "colab_type": "text",
    "id": "4GJqq5WEQrwp"
   },
   "source": [
    "## Alpha-Beta Pruning\n",
    "\n",
    "A video describing this algorithm: https://www.youtube.com/watch?v=l-hh51ncgDI \n",
    "\n",
    "This is quite similar to your above minimax algorithm, but with some pruning to speed things up."
   ]
  },
  {
   "cell_type": "markdown",
   "metadata": {
    "colab_type": "text",
    "id": "THXoqnM3Qrwq"
   },
   "source": [
    "## Alpha-Beta Pruning Pseudocode\n",
    "\n",
    "Below is pseudocode for the depth limited alpha-beta pruning algorithm, from the Wikipedia article linked to above. You'll need to code this up in Python."
   ]
  },
  {
   "cell_type": "code",
   "execution_count": null,
   "metadata": {
    "colab": {},
    "colab_type": "code",
    "id": "HsOYnki_Qrwq"
   },
   "outputs": [],
   "source": [
    "*** Pseudocode for the depth limited alpha-beta pruning algorithm ***\n",
    "\n",
    "function alphabeta(node, depth, α, β, maximizingPlayer) is\n",
    "\n",
    "    if depth = 0 or node is a terminal node then\n",
    "        return the heuristic value of node\n",
    "    \n",
    "    if maximizingPlayer then\n",
    "        value := −∞\n",
    "        for each child of node do\n",
    "            value := max(value, alphabeta(child, depth − 1, α, β, FALSE))\n",
    "            α := max(α, value)\n",
    "            if α ≥ β then\n",
    "                break (* β cut-off *)\n",
    "        return value\n",
    "    \n",
    "    else\n",
    "        value := +∞\n",
    "        for each child of node do\n",
    "            value := min(value, alphabeta(child, depth − 1, α, β, TRUE))\n",
    "            β := min(β, value)\n",
    "            if α ≥ β then\n",
    "                break (* α cut-off *)\n",
    "        return value\n",
    "    \n",
    "(* Initial call *)\n",
    "alphabeta(origin, depth, −∞, +∞, TRUE)"
   ]
  },
  {
   "cell_type": "markdown",
   "metadata": {
    "colab_type": "text",
    "id": "pw9ldQC8Qrws"
   },
   "source": [
    "## Problem 2\n",
    "\n",
    "Implement the above depth limited alpha-beta pruning pseudocode in Python."
   ]
  },
  {
   "cell_type": "code",
   "execution_count": 5,
   "metadata": {
    "colab": {},
    "colab_type": "code",
    "id": "Oiyo8aP0Qrws"
   },
   "outputs": [],
   "source": [
    "# The maximizingPlayer is True at the root node.\n",
    "def alphabeta(node, depth, alpha, beta, maximizingPlayer):\n",
    "    value = None\n",
    "    \n",
    "    ### YOUR CODE HERE\n",
    "    \n",
    "    return value"
   ]
  },
  {
   "cell_type": "markdown",
   "metadata": {
    "colab_type": "text",
    "id": "cyDcZ56FQrwu"
   },
   "source": [
    "### Test cases\n",
    "\n",
    "The code below takes as input the output from your alpha-beta pruning function, and it ouputs the optimal path according to your algorithm. You should get the same optimal paths as with your minimax algoritym. \n",
    "\n",
    "Your submitted code will be run on somewhat larger input trees."
   ]
  },
  {
   "cell_type": "code",
   "execution_count": null,
   "metadata": {
    "colab": {},
    "colab_type": "code",
    "id": "trKlt9S0Qrwu"
   },
   "outputs": [],
   "source": [
    "################\n",
    "## Test Cases ##\n",
    "################\n",
    "\n",
    "# If you need this, remember to first put the files you want to read in onto your Google Drive.\n",
    "# See Piazza for more details, @115.\n",
    "#\n",
    "#from google.colab import files\n",
    "#uploaded = files.upload()\n",
    "\n",
    "# Test Case 1\n",
    "\n",
    "# Read in the tree.\n",
    "tree = pickle.load(open('tree_3_2.pkl', 'rb' ))\n",
    "\n",
    "# Call your minimax function, which returns the value of the game that still needs to be stored in the root node:\n",
    "depth = 3\n",
    "tree.value = alphabeta(tree, depth, -np.inf, np.inf, True)\n",
    "\n",
    "if minimax_path(tree) == [1, 3, 6, 13]:\n",
    "    print('Test 1 passed')\n",
    "else:\n",
    "    print('Test 1 failed')\n",
    "    \n",
    "    \n",
    "# Test Case 2\n",
    "\n",
    "# Read in the tree.\n",
    "tree = pickle.load(open('tree_3_3.pkl', 'rb' ))\n",
    "minimax_path(tree)\n",
    "\n",
    "# Call your minimax function, which returns the value of the game that still needs to be stored in the root node:\n",
    "depth = 3\n",
    "tree.value = alphabeta(tree, depth, -np.inf, np.inf, True)\n",
    "\n",
    "if minimax_path(tree) == [1, 4, 13, 41]:\n",
    "    print('Test 2 passed')\n",
    "else:\n",
    "    print('Test 2 failed')\n",
    "    \n",
    "\n",
    "# Test Case 3\n",
    "\n",
    "# Read in the tree.\n",
    "tree = pickle.load(open('tree_5_3.pkl', 'rb' ))\n",
    "\n",
    "# Call your minminimax_path(tree)imax function, which returns the value of the game that still needs to be stored in the root node:\n",
    "depth = 5\n",
    "tree.value = alphabeta(tree, depth, -np.inf, np.inf, True)\n",
    "\n",
    "if minimax_path(tree) == [1, 4, 13, 39, 117, 352]:\n",
    "    print('Test 3 passed')\n",
    "else:\n",
    "    print('Test 3 failed')"
   ]
  },
  {
   "cell_type": "markdown",
   "metadata": {
    "colab_type": "text",
    "id": "iltC7WEOQrwx"
   },
   "source": [
    "## Problem 3\n",
    "\n",
    "Next you'll compare the running times of your two algorithms; you'll find that alpha-beta pruning is much faster. "
   ]
  },
  {
   "cell_type": "code",
   "execution_count": null,
   "metadata": {
    "colab": {},
    "colab_type": "code",
    "id": "E7bDBNb2Qrwx"
   },
   "outputs": [],
   "source": [
    "from time import time\n",
    "\n",
    "depth = 15\n",
    "\n",
    "# Read in the tree.\n",
    "tree = pickle.load(open('tree_15_2.pkl', 'rb' ))\n",
    "\n",
    "start_time = time()\n",
    "tree.value = minimax(tree, depth, True)\n",
    "time1 = time() - start_time\n",
    "\n",
    "# Read in the tree.\n",
    "tree = pickle.load(open('tree_15_2.pkl', 'rb' ))\n",
    "\n",
    "start_time = time()\n",
    "tree.value = alphabeta(tree, depth, -np.inf, np.inf, True)\n",
    "time2 = time() - start_time\n",
    "\n",
    "print('path =', minimax_path(tree))\n",
    "print(time1/time2)"
   ]
  },
  {
   "cell_type": "markdown",
   "metadata": {
    "colab_type": "text",
    "id": "I6pPf7BdQrwz"
   },
   "source": [
    "3(a)  What is the optimal path you found?\n",
    "\n",
    "#### YOUR ANSWER HERE\n",
    "\n",
    "3(b)  How many times faster was your alphabeta pruning function than your minimax function?\n",
    "\n",
    "#### YOUR ANSWER HERE"
   ]
  },
  {
   "cell_type": "code",
   "execution_count": null,
   "metadata": {
    "colab": {},
    "colab_type": "code",
    "id": "IXpfXrbLQrwz"
   },
   "outputs": [],
   "source": [
    "from time import time\n",
    "\n",
    "depth = 10\n",
    "\n",
    "# Read in the tree.\n",
    "tree = pickle.load(open('tree_10_3.pkl', 'rb' ))\n",
    "\n",
    "### YOUR CODE HERE\n",
    "\n",
    "# Read in the tree.\n",
    "tree = pickle.load(open('tree_10_3.pkl', 'rb' ))\n",
    "\n",
    "### YOUR CODE HERE"
   ]
  },
  {
   "cell_type": "markdown",
   "metadata": {
    "colab_type": "text",
    "id": "aIzAVaTvQrw2"
   },
   "source": [
    "3(c)  What is the optimal path you found?\n",
    "\n",
    "#### YOUR ANSWER HERE\n",
    "\n",
    "3(d)  How many times faster was your alphabeta pruning function than your minimax function?\n",
    "\n",
    "#### YOUR ANSWER HERE"
   ]
  }
 ],
 "metadata": {
  "colab": {
   "collapsed_sections": [],
   "name": "Assignment_2.ipynb",
   "provenance": [],
   "version": "0.3.2"
  },
  "kernelspec": {
   "display_name": "Python 3",
   "language": "python",
   "name": "python3"
  },
  "language_info": {
   "codemirror_mode": {
    "name": "ipython",
    "version": 3
   },
   "file_extension": ".py",
   "mimetype": "text/x-python",
   "name": "python",
   "nbconvert_exporter": "python",
   "pygments_lexer": "ipython3",
   "version": "3.7.3"
  }
 },
 "nbformat": 4,
 "nbformat_minor": 1
}
